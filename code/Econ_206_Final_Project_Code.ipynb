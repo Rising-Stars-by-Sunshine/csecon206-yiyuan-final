{
  "cells": [
    {
      "cell_type": "markdown",
      "source": [
        "# ECON 206 Final Project Code Part"
      ],
      "metadata": {
        "id": "MDYkiJBpg839"
      }
    },
    {
      "cell_type": "markdown",
      "source": [
        "1. Simulate the 8 factors randomly for 0 to 1"
      ],
      "metadata": {
        "id": "nfiRUpOChEV1"
      }
    },
    {
      "cell_type": "code",
      "execution_count": 2,
      "metadata": {
        "id": "sRu0iPJrg8Xw"
      },
      "outputs": [],
      "source": [
        "import numpy as np\n",
        "import pandas as pd\n",
        "import matplotlib.pyplot as plt\n",
        "# set random 0-1 of all the eight factors\n",
        "N = 10\n",
        "\n",
        "player = []\n",
        "TP_all = []\n",
        "RA_all = []\n",
        "EC_all = []\n",
        "TP_all = []\n",
        "A_all = []\n",
        "SN_all = []\n",
        "CP_all = []\n",
        "CC_all = []\n",
        "EA_all = []\n",
        "for i in range(N):\n",
        "    RA = np.random.rand(1)\n",
        "    EC = -np.random.rand(1)\n",
        "    TP = np.random.rand(1)\n",
        "    A = np.random.rand(1)\n",
        "    SN = -np.random.rand(1)\n",
        "    CP = np.random.rand(1)\n",
        "    CC = -np.random.rand(1)\n",
        "    EA = -np.random.rand(1)\n",
        "    player.append([RA, EC, TP, A, EA, SN, CP, CC])\n",
        "    TP_all.append(TP)\n",
        "    RA_all.append(RA)\n",
        "    EC_all.append(EC)\n",
        "    A_all.append(A)\n",
        "    EA_all.append(EA)\n",
        "    SN_all.append(SN)\n",
        "    CP_all.append(CP)\n",
        "    CC_all.append(CC)\n",
        "# sum each 8 factors in player\n",
        "player = np.array(player)\n",
        "alpha = player.sum(axis=1)\n",
        "# PI larger, choose the same strategies with others more\n",
        "PI = np.random.rand(1)\n",
        "alpha = alpha.flatten()"
      ]
    },
    {
      "cell_type": "markdown",
      "source": [
        "2. Set the payoff matrix of each person"
      ],
      "metadata": {
        "id": "rDnPmncwhKJQ"
      }
    },
    {
      "cell_type": "code",
      "execution_count": 3,
      "metadata": {
        "id": "s5OVVhUXg8Xz"
      },
      "outputs": [],
      "source": [
        "# normalize alpha to 0 -1\n",
        "alpha = (alpha - alpha.min()) / (alpha.max() - alpha.min())\n",
        "envi_tree_all = []\n",
        "econ_crop_all = []\n",
        "for i in range(N):\n",
        "    t = TP_all[i]*10\n",
        "    econ_tree = 0.5\n",
        "    envi_tree = 0.8546*t-4.7097\n",
        "    econ_crop = int(t)*104/360\n",
        "    envi_crop = -1.5\n",
        "    envi_tree_all.append(envi_tree)\n",
        "    econ_crop_all.append(econ_crop)\n",
        "    "
      ]
    },
    {
      "cell_type": "markdown",
      "source": [
        "3. Use the PULP packages to calculate the objective function, where we need maximum the sum of economic profit and environmental profit simultaneously.\n"
      ],
      "metadata": {
        "id": "kRXtPWbyhP_a"
      }
    },
    {
      "cell_type": "code",
      "source": [
        "# !pip install pulp"
      ],
      "metadata": {
        "colab": {
          "base_uri": "https://localhost:8080/"
        },
        "id": "6uiWnxUfhtGL",
        "outputId": "e295597f-8364-4b6b-d7eb-16e007fb5b9b"
      },
      "execution_count": 6,
      "outputs": [
        {
          "output_type": "stream",
          "name": "stdout",
          "text": [
            "Looking in indexes: https://pypi.org/simple, https://us-python.pkg.dev/colab-wheels/public/simple/\n",
            "Collecting pulp\n",
            "  Downloading PuLP-2.7.0-py3-none-any.whl (14.3 MB)\n",
            "\u001b[2K     \u001b[90m━━━━━━━━━━━━━━━━━━━━━━━━━━━━━━━━━━━━━━━━\u001b[0m \u001b[32m14.3/14.3 MB\u001b[0m \u001b[31m49.9 MB/s\u001b[0m eta \u001b[36m0:00:00\u001b[0m\n",
            "\u001b[?25hInstalling collected packages: pulp\n",
            "Successfully installed pulp-2.7.0\n"
          ]
        }
      ]
    },
    {
      "cell_type": "code",
      "execution_count": 7,
      "metadata": {
        "colab": {
          "base_uri": "https://localhost:8080/"
        },
        "id": "TTUSF_BNg8X0",
        "outputId": "a4516fc3-cf63-4ef4-cf66-9496d6d8b26c"
      },
      "outputs": [
        {
          "output_type": "stream",
          "name": "stdout",
          "text": [
            "Optimal Solution:\n",
            "x_0 = 1.0\n",
            "x_1 = 0.0\n",
            "x_2 = 1.0\n",
            "x_3 = 0.0\n",
            "x_4 = 1.0\n",
            "x_5 = 0.0\n",
            "x_6 = 1.0\n",
            "x_7 = 0.0\n",
            "x_8 = 0.0\n",
            "x_9 = 0.0\n"
          ]
        },
        {
          "output_type": "stream",
          "name": "stderr",
          "text": [
            "/usr/local/lib/python3.10/dist-packages/pulp/pulp.py:1352: UserWarning: Spaces are not permitted in the name. Converted to '_'\n",
            "  warnings.warn(\"Spaces are not permitted in the name. Converted to '_'\")\n"
          ]
        }
      ],
      "source": [
        "from pulp import *\n",
        "import numpy as np\n",
        "\n",
        "# Assuming you have defined the required variables: N, econ_tree, econ_crop_all, envi_tree_all, envi_crop, and alpha\n",
        "\n",
        "# Create the LP problem\n",
        "problem_emotional = LpProblem(\"Multi-Objective Problem\", LpMaximize)\n",
        "\n",
        "# Decision variables\n",
        "x = LpVariable.dicts(\"x\", range(N), lowBound=0, upBound=1, cat=LpInteger)\n",
        "\n",
        "# # Objective functions\n",
        "objective = LpAffineExpression()\n",
        "\n",
        "\n",
        "for i in range(N):\n",
        "    objective += alpha[i] * (x[i] * econ_tree + (1 - x[i]) * econ_crop_all[i])+ \\\n",
        "    ((1 - alpha[0]) * (x[0] * envi_tree_all[0] + (1 - x[0]) * envi_crop)+ \\\n",
        "        (1 - alpha[1]) * (x[1] * envi_tree_all[1] + (1 - x[1]) * envi_crop)+ \\\n",
        "            (1 - alpha[2]) * (x[2] * envi_tree_all[2] + (1 - x[2]) * envi_crop)+\\\n",
        "                (1 - alpha[3]) * (x[3] * envi_tree_all[3] + (1 - x[3]) * envi_crop)+\\\n",
        "                    (1 - alpha[4]) * (x[4] * envi_tree_all[4] + (1 - x[4]) * envi_crop)+\\\n",
        "                        (1 - alpha[5]) * (x[5] * envi_tree_all[5] + (1 - x[5]) * envi_crop)+\\\n",
        "                            (1 - alpha[6]) * (x[6] * envi_tree_all[6] + (1 - x[6]) * envi_crop)+\\\n",
        "                                (1 - alpha[7]) * (x[7] * envi_tree_all[7] + (1 - x[7]) * envi_crop)+\\\n",
        "                                    (1 - alpha[8]) * (x[8] * envi_tree_all[8] + (1 - x[8]) * envi_crop)+\\\n",
        "                                        (1 - alpha[9]) * (x[9] * envi_tree_all[9] + (1 - x[9]) * envi_crop))/N\n",
        "\n",
        "problem_emotional += objective\n",
        "\n",
        "# Solve the problem\n",
        "problem_emotional.solve()\n",
        "\n",
        "# Print the optimal solution\n",
        "if problem_emotional.status == LpStatusOptimal:\n",
        "    print(\"Optimal Solution:\")\n",
        "    for var in problem_emotional.variables():\n",
        "        print(f\"{var.name} = {var.varValue}\")\n",
        "else:\n",
        "    print(\"No optimal solution found.\")\n"
      ]
    },
    {
      "cell_type": "code",
      "execution_count": 8,
      "metadata": {
        "colab": {
          "base_uri": "https://localhost:8080/"
        },
        "id": "g3dXm9-Pg8X1",
        "outputId": "a6c97571-006b-45d6-9b31-3b8f3769c1c0"
      },
      "outputs": [
        {
          "output_type": "execute_result",
          "data": {
            "text/plain": [
              "[0.41033112]*x_0 + [-0.93888275]*x_1 + [0.22582097]*x_2 + [-1.79132199]*x_3 + [1.34476445]*x_4 + [-1.21627155]*x_5 + [4.10748251]*x_6 + -2.1*x_7 + [-0.25449455]*x_8 + [-1.74297791]*x_9 + [-0.17365311]"
            ]
          },
          "metadata": {},
          "execution_count": 8
        }
      ],
      "source": [
        "# check the objective function\n",
        "objective"
      ]
    },
    {
      "cell_type": "markdown",
      "source": [
        "4. Use the solution from PULP to calculate the payoff of each players and combine all the data into a dataframe"
      ],
      "metadata": {
        "id": "iZrGrCoRh1_M"
      }
    },
    {
      "cell_type": "code",
      "execution_count": null,
      "metadata": {
        "id": "l8wSi020g8X1",
        "outputId": "16957c26-2dd5-4344-9aeb-230aa10bd353"
      },
      "outputs": [
        {
          "data": {
            "text/html": [
              "<div>\n",
              "<style scoped>\n",
              "    .dataframe tbody tr th:only-of-type {\n",
              "        vertical-align: middle;\n",
              "    }\n",
              "\n",
              "    .dataframe tbody tr th {\n",
              "        vertical-align: top;\n",
              "    }\n",
              "\n",
              "    .dataframe thead th {\n",
              "        text-align: right;\n",
              "    }\n",
              "</style>\n",
              "<table border=\"1\" class=\"dataframe\">\n",
              "  <thead>\n",
              "    <tr style=\"text-align: right;\">\n",
              "      <th></th>\n",
              "      <th>TP_all</th>\n",
              "      <th>RA_all</th>\n",
              "      <th>EC_all</th>\n",
              "      <th>A_all</th>\n",
              "      <th>EA_all</th>\n",
              "      <th>SN_all</th>\n",
              "      <th>CP_all</th>\n",
              "      <th>CC_all</th>\n",
              "      <th>alpha</th>\n",
              "      <th>x_irrational</th>\n",
              "      <th>obj_irrational</th>\n",
              "    </tr>\n",
              "  </thead>\n",
              "  <tbody>\n",
              "    <tr>\n",
              "      <th>0</th>\n",
              "      <td>0.137050</td>\n",
              "      <td>0.726963</td>\n",
              "      <td>-0.235763</td>\n",
              "      <td>0.322063</td>\n",
              "      <td>-0.700025</td>\n",
              "      <td>-0.614245</td>\n",
              "      <td>0.103152</td>\n",
              "      <td>-0.046904</td>\n",
              "      <td>0.314235</td>\n",
              "      <td>0.0</td>\n",
              "      <td>-0.694483</td>\n",
              "    </tr>\n",
              "    <tr>\n",
              "      <th>1</th>\n",
              "      <td>0.313192</td>\n",
              "      <td>0.962008</td>\n",
              "      <td>-0.967499</td>\n",
              "      <td>0.395290</td>\n",
              "      <td>-0.355708</td>\n",
              "      <td>-0.638895</td>\n",
              "      <td>0.822153</td>\n",
              "      <td>-0.439468</td>\n",
              "      <td>0.473789</td>\n",
              "      <td>0.0</td>\n",
              "      <td>-0.374645</td>\n",
              "    </tr>\n",
              "    <tr>\n",
              "      <th>2</th>\n",
              "      <td>0.148616</td>\n",
              "      <td>0.522456</td>\n",
              "      <td>-0.138123</td>\n",
              "      <td>0.093193</td>\n",
              "      <td>-0.384251</td>\n",
              "      <td>-0.688874</td>\n",
              "      <td>0.928571</td>\n",
              "      <td>-0.845779</td>\n",
              "      <td>0.291636</td>\n",
              "      <td>0.0</td>\n",
              "      <td>-0.701012</td>\n",
              "    </tr>\n",
              "    <tr>\n",
              "      <th>3</th>\n",
              "      <td>0.305476</td>\n",
              "      <td>0.461852</td>\n",
              "      <td>-0.868767</td>\n",
              "      <td>0.248509</td>\n",
              "      <td>-0.477359</td>\n",
              "      <td>-0.236230</td>\n",
              "      <td>0.264290</td>\n",
              "      <td>-0.571640</td>\n",
              "      <td>0.087711</td>\n",
              "      <td>0.0</td>\n",
              "      <td>-0.709246</td>\n",
              "    </tr>\n",
              "    <tr>\n",
              "      <th>4</th>\n",
              "      <td>0.056037</td>\n",
              "      <td>0.768503</td>\n",
              "      <td>-0.924568</td>\n",
              "      <td>0.215520</td>\n",
              "      <td>-0.143411</td>\n",
              "      <td>-0.311860</td>\n",
              "      <td>0.032754</td>\n",
              "      <td>-0.786065</td>\n",
              "      <td>0.000000</td>\n",
              "      <td>0.0</td>\n",
              "      <td>-0.785262</td>\n",
              "    </tr>\n",
              "  </tbody>\n",
              "</table>\n",
              "</div>"
            ],
            "text/plain": [
              "     TP_all    RA_all    EC_all     A_all    EA_all    SN_all    CP_all  \\\n",
              "0  0.137050  0.726963 -0.235763  0.322063 -0.700025 -0.614245  0.103152   \n",
              "1  0.313192  0.962008 -0.967499  0.395290 -0.355708 -0.638895  0.822153   \n",
              "2  0.148616  0.522456 -0.138123  0.093193 -0.384251 -0.688874  0.928571   \n",
              "3  0.305476  0.461852 -0.868767  0.248509 -0.477359 -0.236230  0.264290   \n",
              "4  0.056037  0.768503 -0.924568  0.215520 -0.143411 -0.311860  0.032754   \n",
              "\n",
              "     CC_all     alpha  x_irrational  obj_irrational  \n",
              "0 -0.046904  0.314235           0.0       -0.694483  \n",
              "1 -0.439468  0.473789           0.0       -0.374645  \n",
              "2 -0.845779  0.291636           0.0       -0.701012  \n",
              "3 -0.571640  0.087711           0.0       -0.709246  \n",
              "4 -0.786065  0.000000           0.0       -0.785262  "
            ]
          },
          "execution_count": 133,
          "metadata": {},
          "output_type": "execute_result"
        }
      ],
      "source": [
        "TP_all = np.array(TP_all).flatten()\n",
        "RA_all = np.array(RA_all).flatten()\n",
        "EC_all = np.array(EC_all).flatten()\n",
        "TP_all = np.array(TP_all).flatten()\n",
        "A_all = np.array(A_all).flatten()\n",
        "EA_all = np.array(EA_all).flatten()\n",
        "SN_all = np.array(SN_all).flatten()\n",
        "CP_all = np.array(CP_all).flatten()\n",
        "CC_all = np.array(CC_all).flatten()\n",
        "alpha = np.array(alpha).flatten()\n",
        "x = np.array([var.varValue for var in problem_emotional.variables()]).flatten()\n",
        "#create dataframe include TP_all, RA_all, EC_all, TP_all, A_all, SN_all, CP_all, CC_all, alpha, x\n",
        "df = pd.DataFrame({'TP_all':TP_all, 'RA_all':RA_all, 'EC_all':EC_all, 'TP_all':TP_all, 'A_all':A_all, 'EA_all': EA_all,'SN_all':SN_all, 'CP_all':CP_all, 'CC_all':CC_all, 'alpha':alpha, 'x_irrational':x})\n",
        "#calculate each objective function for player\n",
        "obj = []\n",
        "for i in range(N):\n",
        "    obj_cal = df['alpha'][i] * (x[i] * econ_tree + (1 - x[i]) * econ_crop_all[i])+ \\\n",
        "    ((1 - df['alpha'][0]) * (x[0] * envi_tree_all[0] + (1 - x[0]) * envi_crop)+ \\\n",
        "        (1 - df['alpha'][1]) * (x[1] * envi_tree_all[1] + (1 - x[1]) * envi_crop)+ \\\n",
        "            (1 - df['alpha'][2]) * (x[2] * envi_tree_all[2] + (1 - x[2]) * envi_crop)+\\\n",
        "                (1 - df['alpha'][3]) * (x[3] * envi_tree_all[3] + (1 - x[3]) * envi_crop)+\\\n",
        "                    (1 - df['alpha'][4]) * (x[4] * envi_tree_all[4] + (1 - x[4]) * envi_crop)+\\\n",
        "                        (1 - df['alpha'][5]) * (x[5] * envi_tree_all[5] + (1 - x[5]) * envi_crop)+\\\n",
        "                            (1 - df['alpha'][6]) * (x[6] * envi_tree_all[6] + (1 - x[6]) * envi_crop)+\\\n",
        "                                (1 - df['alpha'][7]) * (x[7] * envi_tree_all[7] + (1 - x[7]) * envi_crop)+\\\n",
        "                                    (1 - df['alpha'][8]) * (x[8] * envi_tree_all[8] + (1 - x[8]) * envi_crop)+\\\n",
        "                                        (1 - df['alpha'][9]) * (x[9] * envi_tree_all[9] + (1 - x[9]) * envi_crop))/N\n",
        "    obj.append(obj_cal)\n",
        "obj = np.array(obj).flatten()\n",
        "# add obj to the df\n",
        "df['obj_irrational'] = obj\n",
        "df.head()"
      ]
    },
    {
      "cell_type": "markdown",
      "source": [
        "5. Do the same thing only change the alpha, which means this is the rational choice for each players"
      ],
      "metadata": {
        "id": "daFbQsjxiAje"
      }
    },
    {
      "cell_type": "code",
      "execution_count": null,
      "metadata": {
        "id": "it5WEMOgg8X1",
        "outputId": "2bf6fb0e-c56c-4581-c0f7-c53877a8fde1"
      },
      "outputs": [
        {
          "name": "stdout",
          "output_type": "stream",
          "text": [
            "Optimal Solution:\n",
            "x_0 = 0.0\n",
            "x_1 = 0.0\n",
            "x_2 = 0.0\n",
            "x_3 = 0.0\n",
            "x_4 = 0.0\n",
            "x_5 = 0.0\n",
            "x_6 = 0.0\n",
            "x_7 = 1.0\n",
            "x_8 = 0.0\n",
            "x_9 = 1.0\n"
          ]
        },
        {
          "name": "stderr",
          "output_type": "stream",
          "text": [
            "/Users/YiZhiYuanYuan/miniforge3/lib/python3.9/site-packages/pulp/pulp.py:1352: UserWarning: Spaces are not permitted in the name. Converted to '_'\n",
            "  warnings.warn(\"Spaces are not permitted in the name. Converted to '_'\")\n"
          ]
        }
      ],
      "source": [
        "from pulp import *\n",
        "import numpy as np\n",
        "\n",
        "# Assuming you have defined the required variables: N, econ_tree, econ_crop_all, envi_tree_all, envi_crop, and alpha\n",
        "\n",
        "# Create the LP problem\n",
        "problem_nash = LpProblem(\"Multi-Objective Problem\", LpMaximize)\n",
        "\n",
        "# Decision variables\n",
        "x = LpVariable.dicts(\"x\", range(N), lowBound=0, upBound=1, cat=LpInteger)\n",
        "objective = LpAffineExpression()\n",
        "\n",
        "\n",
        "for i in range(N):\n",
        "    # objective += 0.5 * (x[i] * econ_tree + (1 - x[i]) * econ_crop_all[i]) + (1 - 0.5) * (x[i] * envi_tree_all[i] + (1 - x[i]) * envi_crop)\n",
        "    alpha_ir = [0.5 for i in range(N)]\n",
        "    objective += alpha_ir[i] * (x[i] * econ_tree + (1 - x[i]) * econ_crop_all[i])+ \\\n",
        "    ((1 - alpha_ir[0]) * (x[0] * envi_tree_all[0] + (1 - x[0]) * envi_crop)+ \\\n",
        "        (1 - alpha_ir[1]) * (x[1] * envi_tree_all[1] + (1 - x[1]) * envi_crop)+ \\\n",
        "            (1 - alpha_ir[2]) * (x[2] * envi_tree_all[2] + (1 - x[2]) * envi_crop)+\\\n",
        "                (1 - alpha_ir[3]) * (x[3] * envi_tree_all[3] + (1 - x[3]) * envi_crop)+\\\n",
        "                    (1 - alpha_ir[4]) * (x[4] * envi_tree_all[4] + (1 - x[4]) * envi_crop)+\\\n",
        "                        (1 - alpha_ir[5]) * (x[5] * envi_tree_all[5] + (1 - x[5]) * envi_crop)+\\\n",
        "                            (1 - alpha_ir[6]) * (x[6] * envi_tree_all[6] + (1 - x[6]) * envi_crop)+\\\n",
        "                                (1 - alpha_ir[7]) * (x[7] * envi_tree_all[7] + (1 - x[7]) * envi_crop)+\\\n",
        "                                    (1 - alpha_ir[8]) * (x[8] * envi_tree_all[8] + (1 - x[8]) * envi_crop)+\\\n",
        "                                        (1 - alpha_ir[9]) * (x[9] * envi_tree_all[9] + (1 - x[9]) * envi_crop))/N\n",
        "\n",
        "problem_nash += objective\n",
        "\n",
        "# Solve the problem\n",
        "problem_nash.solve()\n",
        "\n",
        "# Print the optimal solution\n",
        "if problem_nash.status == LpStatusOptimal:\n",
        "    print(\"Optimal Solution:\")\n",
        "    for var in problem_nash.variables():\n",
        "        print(f\"{var.name} = {var.varValue}\")\n",
        "else:\n",
        "    print(\"No optimal solution found.\")\n",
        "x = np.array([var.varValue for var in problem_nash.variables()]).flatten()"
      ]
    },
    {
      "cell_type": "markdown",
      "source": [
        "6. Calculate the payoff under the situation of alpha = 0.5"
      ],
      "metadata": {
        "id": "cU4sVEzRiKK1"
      }
    },
    {
      "cell_type": "code",
      "execution_count": null,
      "metadata": {
        "id": "imm_onnLg8X2",
        "outputId": "71d60ca8-949a-4503-a8ec-809b4fddf557"
      },
      "outputs": [
        {
          "data": {
            "text/html": [
              "<div>\n",
              "<style scoped>\n",
              "    .dataframe tbody tr th:only-of-type {\n",
              "        vertical-align: middle;\n",
              "    }\n",
              "\n",
              "    .dataframe tbody tr th {\n",
              "        vertical-align: top;\n",
              "    }\n",
              "\n",
              "    .dataframe thead th {\n",
              "        text-align: right;\n",
              "    }\n",
              "</style>\n",
              "<table border=\"1\" class=\"dataframe\">\n",
              "  <thead>\n",
              "    <tr style=\"text-align: right;\">\n",
              "      <th></th>\n",
              "      <th>TP_all</th>\n",
              "      <th>RA_all</th>\n",
              "      <th>EC_all</th>\n",
              "      <th>A_all</th>\n",
              "      <th>EA_all</th>\n",
              "      <th>SN_all</th>\n",
              "      <th>CP_all</th>\n",
              "      <th>CC_all</th>\n",
              "      <th>alpha</th>\n",
              "      <th>x_irrational</th>\n",
              "      <th>obj_irrational</th>\n",
              "      <th>x_rational</th>\n",
              "      <th>obj_rational</th>\n",
              "    </tr>\n",
              "  </thead>\n",
              "  <tbody>\n",
              "    <tr>\n",
              "      <th>0</th>\n",
              "      <td>0.137050</td>\n",
              "      <td>0.726963</td>\n",
              "      <td>-0.235763</td>\n",
              "      <td>0.322063</td>\n",
              "      <td>-0.700025</td>\n",
              "      <td>-0.614245</td>\n",
              "      <td>0.103152</td>\n",
              "      <td>-0.046904</td>\n",
              "      <td>0.314235</td>\n",
              "      <td>0.0</td>\n",
              "      <td>-0.694483</td>\n",
              "      <td>0.0</td>\n",
              "      <td>-0.298035</td>\n",
              "    </tr>\n",
              "    <tr>\n",
              "      <th>1</th>\n",
              "      <td>0.313192</td>\n",
              "      <td>0.962008</td>\n",
              "      <td>-0.967499</td>\n",
              "      <td>0.395290</td>\n",
              "      <td>-0.355708</td>\n",
              "      <td>-0.638895</td>\n",
              "      <td>0.822153</td>\n",
              "      <td>-0.439468</td>\n",
              "      <td>0.473789</td>\n",
              "      <td>0.0</td>\n",
              "      <td>-0.374645</td>\n",
              "      <td>0.0</td>\n",
              "      <td>-0.009146</td>\n",
              "    </tr>\n",
              "    <tr>\n",
              "      <th>2</th>\n",
              "      <td>0.148616</td>\n",
              "      <td>0.522456</td>\n",
              "      <td>-0.138123</td>\n",
              "      <td>0.093193</td>\n",
              "      <td>-0.384251</td>\n",
              "      <td>-0.688874</td>\n",
              "      <td>0.928571</td>\n",
              "      <td>-0.845779</td>\n",
              "      <td>0.291636</td>\n",
              "      <td>0.0</td>\n",
              "      <td>-0.701012</td>\n",
              "      <td>0.0</td>\n",
              "      <td>-0.298035</td>\n",
              "    </tr>\n",
              "    <tr>\n",
              "      <th>3</th>\n",
              "      <td>0.305476</td>\n",
              "      <td>0.461852</td>\n",
              "      <td>-0.868767</td>\n",
              "      <td>0.248509</td>\n",
              "      <td>-0.477359</td>\n",
              "      <td>-0.236230</td>\n",
              "      <td>0.264290</td>\n",
              "      <td>-0.571640</td>\n",
              "      <td>0.087711</td>\n",
              "      <td>0.0</td>\n",
              "      <td>-0.709246</td>\n",
              "      <td>0.0</td>\n",
              "      <td>-0.009146</td>\n",
              "    </tr>\n",
              "    <tr>\n",
              "      <th>4</th>\n",
              "      <td>0.056037</td>\n",
              "      <td>0.768503</td>\n",
              "      <td>-0.924568</td>\n",
              "      <td>0.215520</td>\n",
              "      <td>-0.143411</td>\n",
              "      <td>-0.311860</td>\n",
              "      <td>0.032754</td>\n",
              "      <td>-0.786065</td>\n",
              "      <td>0.000000</td>\n",
              "      <td>0.0</td>\n",
              "      <td>-0.785262</td>\n",
              "      <td>0.0</td>\n",
              "      <td>-0.442479</td>\n",
              "    </tr>\n",
              "    <tr>\n",
              "      <th>5</th>\n",
              "      <td>0.259743</td>\n",
              "      <td>0.690802</td>\n",
              "      <td>-0.526562</td>\n",
              "      <td>0.763697</td>\n",
              "      <td>-0.743338</td>\n",
              "      <td>-0.313795</td>\n",
              "      <td>0.268192</td>\n",
              "      <td>-0.201032</td>\n",
              "      <td>0.516454</td>\n",
              "      <td>0.0</td>\n",
              "      <td>-0.486866</td>\n",
              "      <td>0.0</td>\n",
              "      <td>-0.153590</td>\n",
              "    </tr>\n",
              "    <tr>\n",
              "      <th>6</th>\n",
              "      <td>0.102006</td>\n",
              "      <td>0.604161</td>\n",
              "      <td>-0.989339</td>\n",
              "      <td>0.070458</td>\n",
              "      <td>-0.348087</td>\n",
              "      <td>-0.374478</td>\n",
              "      <td>0.028674</td>\n",
              "      <td>-0.110064</td>\n",
              "      <td>0.030577</td>\n",
              "      <td>0.0</td>\n",
              "      <td>-0.776429</td>\n",
              "      <td>0.0</td>\n",
              "      <td>-0.298035</td>\n",
              "    </tr>\n",
              "    <tr>\n",
              "      <th>7</th>\n",
              "      <td>0.619952</td>\n",
              "      <td>0.381433</td>\n",
              "      <td>-0.428953</td>\n",
              "      <td>0.270962</td>\n",
              "      <td>-0.023259</td>\n",
              "      <td>-0.600950</td>\n",
              "      <td>0.313185</td>\n",
              "      <td>-0.738490</td>\n",
              "      <td>0.354881</td>\n",
              "      <td>1.0</td>\n",
              "      <td>-0.607821</td>\n",
              "      <td>1.0</td>\n",
              "      <td>-0.192479</td>\n",
              "    </tr>\n",
              "    <tr>\n",
              "      <th>8</th>\n",
              "      <td>0.358240</td>\n",
              "      <td>0.487534</td>\n",
              "      <td>-0.039798</td>\n",
              "      <td>0.723344</td>\n",
              "      <td>-0.078541</td>\n",
              "      <td>-0.999965</td>\n",
              "      <td>0.502852</td>\n",
              "      <td>-0.053636</td>\n",
              "      <td>0.797457</td>\n",
              "      <td>0.0</td>\n",
              "      <td>-0.094132</td>\n",
              "      <td>0.0</td>\n",
              "      <td>-0.009146</td>\n",
              "    </tr>\n",
              "    <tr>\n",
              "      <th>9</th>\n",
              "      <td>0.850890</td>\n",
              "      <td>0.616714</td>\n",
              "      <td>-0.866532</td>\n",
              "      <td>0.917411</td>\n",
              "      <td>-0.079762</td>\n",
              "      <td>-0.358110</td>\n",
              "      <td>0.981467</td>\n",
              "      <td>-0.655824</td>\n",
              "      <td>1.000000</td>\n",
              "      <td>0.0</td>\n",
              "      <td>1.525849</td>\n",
              "      <td>1.0</td>\n",
              "      <td>-0.192479</td>\n",
              "    </tr>\n",
              "  </tbody>\n",
              "</table>\n",
              "</div>"
            ],
            "text/plain": [
              "     TP_all    RA_all    EC_all     A_all    EA_all    SN_all    CP_all  \\\n",
              "0  0.137050  0.726963 -0.235763  0.322063 -0.700025 -0.614245  0.103152   \n",
              "1  0.313192  0.962008 -0.967499  0.395290 -0.355708 -0.638895  0.822153   \n",
              "2  0.148616  0.522456 -0.138123  0.093193 -0.384251 -0.688874  0.928571   \n",
              "3  0.305476  0.461852 -0.868767  0.248509 -0.477359 -0.236230  0.264290   \n",
              "4  0.056037  0.768503 -0.924568  0.215520 -0.143411 -0.311860  0.032754   \n",
              "5  0.259743  0.690802 -0.526562  0.763697 -0.743338 -0.313795  0.268192   \n",
              "6  0.102006  0.604161 -0.989339  0.070458 -0.348087 -0.374478  0.028674   \n",
              "7  0.619952  0.381433 -0.428953  0.270962 -0.023259 -0.600950  0.313185   \n",
              "8  0.358240  0.487534 -0.039798  0.723344 -0.078541 -0.999965  0.502852   \n",
              "9  0.850890  0.616714 -0.866532  0.917411 -0.079762 -0.358110  0.981467   \n",
              "\n",
              "     CC_all     alpha  x_irrational  obj_irrational  x_rational  obj_rational  \n",
              "0 -0.046904  0.314235           0.0       -0.694483         0.0     -0.298035  \n",
              "1 -0.439468  0.473789           0.0       -0.374645         0.0     -0.009146  \n",
              "2 -0.845779  0.291636           0.0       -0.701012         0.0     -0.298035  \n",
              "3 -0.571640  0.087711           0.0       -0.709246         0.0     -0.009146  \n",
              "4 -0.786065  0.000000           0.0       -0.785262         0.0     -0.442479  \n",
              "5 -0.201032  0.516454           0.0       -0.486866         0.0     -0.153590  \n",
              "6 -0.110064  0.030577           0.0       -0.776429         0.0     -0.298035  \n",
              "7 -0.738490  0.354881           1.0       -0.607821         1.0     -0.192479  \n",
              "8 -0.053636  0.797457           0.0       -0.094132         0.0     -0.009146  \n",
              "9 -0.655824  1.000000           0.0        1.525849         1.0     -0.192479  "
            ]
          },
          "execution_count": 135,
          "metadata": {},
          "output_type": "execute_result"
        }
      ],
      "source": [
        "#calculate each objective function for player\n",
        "obj_nash = []\n",
        "for i in range(N):\n",
        "    obj_cal = alpha_ir[i] * (x[i] * econ_tree + (1 - x[i]) * econ_crop_all[i])+ \\\n",
        "    ((1 - alpha_ir[0]) * (x[0] * envi_tree_all[0] + (1 - x[0]) * envi_crop)+ \\\n",
        "        (1 - alpha_ir[1]) * (x[1] * envi_tree_all[1] + (1 - x[1]) * envi_crop)+ \\\n",
        "            (1 - alpha_ir[2]) * (x[2] * envi_tree_all[2] + (1 - x[2]) * envi_crop)+\\\n",
        "                (1 - alpha_ir[3]) * (x[3] * envi_tree_all[3] + (1 - x[3]) * envi_crop)+\\\n",
        "                    (1 - alpha_ir[4]) * (x[4] * envi_tree_all[4] + (1 - x[4]) * envi_crop)+\\\n",
        "                        (1 - alpha_ir[5]) * (x[5] * envi_tree_all[5] + (1 - x[5]) * envi_crop)+\\\n",
        "                            (1 - alpha_ir[6]) * (x[6] * envi_tree_all[6] + (1 - x[6]) * envi_crop)+\\\n",
        "                                (1 - alpha_ir[7]) * (x[7] * envi_tree_all[7] + (1 - x[7]) * envi_crop)+\\\n",
        "                                    (1 - alpha_ir[8]) * (x[8] * envi_tree_all[8] + (1 - x[8]) * envi_crop)+\\\n",
        "                                        (1 - alpha_ir[9]) * (x[9] * envi_tree_all[9] + (1 - x[9]) * envi_crop))/N\n",
        "    obj_nash.append(obj_cal)\n",
        "obj_nash = np.array(obj_nash).flatten()\n",
        "df['x_rational'] = x\n",
        "df['obj_rational'] = obj_nash\n",
        "# df1 = pd.DataFrame({'x':x,'obj':obj})\n",
        "df"
      ]
    },
    {
      "cell_type": "markdown",
      "source": [
        "7. Simulate the factors randomly and draw the payoff of rational and irrational situations to make the comparison."
      ],
      "metadata": {
        "id": "UqIhkVKRiW1g"
      }
    },
    {
      "cell_type": "code",
      "execution_count": null,
      "metadata": {
        "id": "PsguEw07g8X2",
        "outputId": "d63e38c4-7829-4f3e-ccb6-a78bd038f819"
      },
      "outputs": [
        {
          "name": "stderr",
          "output_type": "stream",
          "text": [
            "The PostScript backend does not support transparency; partially transparent artists will be rendered opaque.\n"
          ]
        },
        {
          "data": {
            "image/png": "[encoded data removed]",
            "text/plain": [
              "<Figure size 432x288 with 1 Axes>"
            ]
          },
          "metadata": {
            "needs_background": "light"
          },
          "output_type": "display_data"
        }
      ],
      "source": [
        "# simulate random x\n",
        "# using the random x calculate obj\n",
        "simu = []\n",
        "simu_sum = []\n",
        "for j in range(100):\n",
        "    x_random = np.random.randint(0,2,N)\n",
        "    obj_random = []\n",
        "    for i in range(N):\n",
        "        obj_cal = alpha[i] * (x_random[i] * econ_tree + (1 - x_random[i]) * econ_crop_all[i])+ \\\n",
        "    ((1 - alpha[0]) * (x_random[0] * envi_tree_all[0] + (1 - x_random[0]) * envi_crop)+ \\\n",
        "        (1 - alpha[1]) * (x_random[1] * envi_tree_all[1] + (1 - x_random[1]) * envi_crop)+ \\\n",
        "            (1 - alpha[2]) * (x_random[2] * envi_tree_all[2] + (1 - x_random[2]) * envi_crop)+\\\n",
        "                (1 - alpha[3]) * (x_random[3] * envi_tree_all[3] + (1 - x_random[3]) * envi_crop)+\\\n",
        "                    (1 - alpha[4]) * (x_random[4] * envi_tree_all[4] + (1 - x_random[4]) * envi_crop)+\\\n",
        "                        (1 - alpha[5]) * (x_random[5] * envi_tree_all[5] + (1 - x_random[5]) * envi_crop)+\\\n",
        "                            (1 - alpha[6]) * (x_random[6] * envi_tree_all[6] + (1 - x_random[6]) * envi_crop)+\\\n",
        "                                (1 - alpha[7]) * (x_random[7] * envi_tree_all[7] + (1 - x_random[7]) * envi_crop)+\\\n",
        "                                    (1 - alpha[8]) * (x_random[8] * envi_tree_all[8] + (1 - x_random[8]) * envi_crop)+\\\n",
        "                                        (1 - alpha[9]) * (x_random[9] * envi_tree_all[9] + (1 - x_random[9]) * envi_crop))/N\n",
        "        obj_random.append(obj_cal)\n",
        "\n",
        "    obj_random = np.array(obj_random).flatten()\n",
        "    # draw plot widgth 10, height 10\n",
        "   \n",
        "    # draw obj_random scatter plot with blue color,x-axis is 1-10, y-axis is obj_random\n",
        "    # plt.plot(range(1,N+1), obj_random, color='blue')\n",
        "    simu.append(obj_random)\n",
        "    simu_sum.append(sum(obj_random))\n",
        "obj_random\n",
        "# draw obj scatter plot with red color,x-axis is 1-10, y-axis is obj\n",
        "\n",
        "# add label of the plot\n",
        "plt.xlabel('Player')\n",
        "plt.ylabel('Objective')\n",
        "# add lable of the red and yellow line\n",
        "plt.plot(range(1,N+1), df['obj_irrational'], color='#009000',label='Emotional Equilibrium')\n",
        "plt.plot(range(1,N+1), df['obj_rational'], color='#001000',label='Rational Equilibrium')\n",
        "plt.legend()\n",
        "plt.savefig('obj.eps', dpi=300)\n",
        "plt.show()\n",
        "\n",
        "\n",
        "\n"
      ]
    }
  ],
  "metadata": {
    "kernelspec": {
      "display_name": "Python 3.9.7 ('base')",
      "language": "python",
      "name": "python3"
    },
    "language_info": {
      "codemirror_mode": {
        "name": "ipython",
        "version": 3
      },
      "file_extension": ".py",
      "mimetype": "text/x-python",
      "name": "python",
      "nbconvert_exporter": "python",
      "pygments_lexer": "ipython3",
      "version": "3.9.7"
    },
    "orig_nbformat": 4,
    "vscode": {
      "interpreter": {
        "hash": "e679d200d7412e2000ec786c3b3a8efdc62b4075c77ea3dce3e06ec8af83ca7b"
      }
    },
    "colab": {
      "provenance": []
    }
  },
  "nbformat": 4,
  "nbformat_minor": 0
}